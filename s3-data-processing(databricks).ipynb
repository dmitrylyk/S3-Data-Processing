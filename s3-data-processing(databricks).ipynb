{
 "cells": [
  {
   "cell_type": "code",
   "execution_count": null,
   "metadata": {
    "application/vnd.databricks.v1+cell": {
     "inputWidgets": {},
     "nuid": "7e2fad3c-5102-4ebe-9cf8-630018fb0c8b",
     "showTitle": false,
     "title": ""
    }
   },
   "outputs": [
    {
     "data": {
      "text/html": [
       "<style scoped>\n",
       "  .ansiout {\n",
       "    display: block;\n",
       "    unicode-bidi: embed;\n",
       "    white-space: pre-wrap;\n",
       "    word-wrap: break-word;\n",
       "    word-break: break-all;\n",
       "    font-family: \"Source Code Pro\", \"Menlo\", monospace;;\n",
       "    font-size: 13px;\n",
       "    color: #555;\n",
       "    margin-left: 4px;\n",
       "    line-height: 19px;\n",
       "  }\n",
       "</style>\n",
       "<div class=\"ansiout\"></div>"
      ]
     },
     "metadata": {
      "application/vnd.databricks.v1+output": {
       "addedWidgets": {},
       "arguments": {},
       "data": "<div class=\"ansiout\"></div>",
       "datasetInfos": [],
       "removedWidgets": [],
       "type": "html"
      }
     },
     "output_type": "display_data"
    }
   ],
   "source": [
    "ACCESS_KEY = \"\"\n",
    "SECRET_KEY = \"\"\n",
    "ENCODED_SECRET_KEY = SECRET_KEY.replace(\"/\", \"%2F\")\n",
    "AWS_BUCKET_NAME = \"\"\n",
    "\n",
    "S3_PATH = f's3a://{ACCESS_KEY}:{ENCODED_SECRET_KEY}@{AWS_BUCKET_NAME}/'\n"
   ]
  },
  {
   "cell_type": "code",
   "execution_count": null,
   "metadata": {
    "application/vnd.databricks.v1+cell": {
     "inputWidgets": {},
     "nuid": "2b2107c7-64f7-4b6c-b049-7176edf63609",
     "showTitle": false,
     "title": ""
    }
   },
   "outputs": [
    {
     "data": {
      "text/html": [
       "<style scoped>\n",
       "  .ansiout {\n",
       "    display: block;\n",
       "    unicode-bidi: embed;\n",
       "    white-space: pre-wrap;\n",
       "    word-wrap: break-word;\n",
       "    word-break: break-all;\n",
       "    font-family: \"Source Code Pro\", \"Menlo\", monospace;;\n",
       "    font-size: 13px;\n",
       "    color: #555;\n",
       "    margin-left: 4px;\n",
       "    line-height: 19px;\n",
       "  }\n",
       "</style>\n",
       "<div class=\"ansiout\"></div>"
      ]
     },
     "metadata": {
      "application/vnd.databricks.v1+output": {
       "addedWidgets": {},
       "arguments": {},
       "data": "<div class=\"ansiout\"></div>",
       "datasetInfos": [],
       "removedWidgets": [],
       "type": "html"
      }
     },
     "output_type": "display_data"
    }
   ],
   "source": [
    "from pyspark.streaming import StreamingContext\n",
    "from pyspark.sql.functions import *\n",
    "from pyspark.sql.types import *\n"
   ]
  },
  {
   "cell_type": "code",
   "execution_count": null,
   "metadata": {
    "application/vnd.databricks.v1+cell": {
     "inputWidgets": {},
     "nuid": "706532c7-6cd4-4651-8af7-4077c7e3e8a2",
     "showTitle": false,
     "title": ""
    }
   },
   "outputs": [
    {
     "data": {
      "text/html": [
       "<style scoped>\n",
       "  .ansiout {\n",
       "    display: block;\n",
       "    unicode-bidi: embed;\n",
       "    white-space: pre-wrap;\n",
       "    word-wrap: break-word;\n",
       "    word-break: break-all;\n",
       "    font-family: \"Source Code Pro\", \"Menlo\", monospace;;\n",
       "    font-size: 13px;\n",
       "    color: #555;\n",
       "    margin-left: 4px;\n",
       "    line-height: 19px;\n",
       "  }\n",
       "</style>\n",
       "<div class=\"ansiout\"></div>"
      ]
     },
     "metadata": {
      "application/vnd.databricks.v1+output": {
       "addedWidgets": {},
       "arguments": {},
       "data": "<div class=\"ansiout\"></div>",
       "datasetInfos": [
        {
         "name": "revenueCache",
         "schema": {
          "fields": [
           {
            "metadata": {},
            "name": "user",
            "nullable": true,
            "type": "string"
           },
           {
            "metadata": {},
            "name": "total_spend",
            "nullable": true,
            "type": "double"
           }
          ],
          "type": "struct"
         },
         "tableIdentifier": null,
         "typeStr": "pyspark.sql.dataframe.DataFrame"
        }
       ],
       "removedWidgets": [],
       "type": "html"
      }
     },
     "output_type": "display_data"
    }
   ],
   "source": [
    "sc = spark.sparkContext\n",
    "\n",
    "ssc = StreamingContext(sc, 30)\n",
    "\n",
    "jsonSchema = StructType([StructField(\"user\", StringType(), True),\n",
    "                         StructField(\"timestamp\", TimestampType(), True),\n",
    "                         StructField(\"spend\", DoubleType(), True),\n",
    "                         StructField(\"evtname\", StringType(), True)])\n",
    "\n",
    "revenueSchema = StructType([StructField(\"user\", StringType(), True),\n",
    "                            StructField(\"total_spend\", DoubleType(), True)])\n",
    "\n",
    "revenueCache = spark.createDataFrame(spark.sparkContext.emptyRDD(), revenueSchema)\n"
   ]
  },
  {
   "cell_type": "code",
   "execution_count": null,
   "metadata": {
    "application/vnd.databricks.v1+cell": {
     "inputWidgets": {},
     "nuid": "d77acfdb-f950-487e-8f0e-87972b138156",
     "showTitle": false,
     "title": ""
    }
   },
   "outputs": [
    {
     "data": {
      "text/html": [
       "<style scoped>\n",
       "  .ansiout {\n",
       "    display: block;\n",
       "    unicode-bidi: embed;\n",
       "    white-space: pre-wrap;\n",
       "    word-wrap: break-word;\n",
       "    word-break: break-all;\n",
       "    font-family: \"Source Code Pro\", \"Menlo\", monospace;;\n",
       "    font-size: 13px;\n",
       "    color: #555;\n",
       "    margin-left: 4px;\n",
       "    line-height: 19px;\n",
       "  }\n",
       "</style>\n",
       "<div class=\"ansiout\"></div>"
      ]
     },
     "metadata": {
      "application/vnd.databricks.v1+output": {
       "addedWidgets": {},
       "arguments": {},
       "data": "<div class=\"ansiout\"></div>",
       "datasetInfos": [],
       "removedWidgets": [],
       "type": "html"
      }
     },
     "output_type": "display_data"
    }
   ],
   "source": [
    "def processing(time, rdd):          \n",
    "    df = spark.read \\\n",
    "      .schema(jsonSchema) \\\n",
    "      .json(rdd)\n",
    "    \n",
    "    if len(df.head(1)) == 0:\n",
    "      print(str(time), \"(Empty Batch)\")\n",
    "    else:\n",
    "      print(str(time))\n",
    "      df.show()\n",
    "    \n",
    "      events = df.drop(\"spend\")\n",
    "\n",
    "      totalSpend = df.na.fill(0, [\"spend\"]) \\\n",
    "        .groupby(\"user\") \\\n",
    "        .sum(\"spend\") \\\n",
    "        .withColumnRenamed(\"sum(spend)\", \"total_spend\") \\\n",
    "        .withColumn(\"total_spend\", round(col(\"total_spend\"), 2))\n",
    "\n",
    "      global revenueCache\n",
    "\n",
    "      revenue = revenueCache.union(totalSpend) \\\n",
    "        .groupby(\"user\") \\\n",
    "        .sum(\"total_spend\") \\\n",
    "        .withColumnRenamed(\"sum(total_spend)\", \"total_spend\") \\\n",
    "        .withColumn(\"total_spend\", round(col(\"total_spend\"), 2))\n",
    "\n",
    "      revenueCache = revenue\n",
    "    \n",
    "      events.show()\n",
    "      revenue.show()\n",
    "\n",
    "      events.write \\\n",
    "        .format(\"jdbc\") \\\n",
    "        .mode(\"append\") \\\n",
    "        .option(\"driver\", 'org.postgresql.Driver') \\\n",
    "        .option(\"url\", \"\") \\\n",
    "        .option(\"dbtable\", \"users\") \\\n",
    "        .option(\"user\", \"\") \\\n",
    "        .option(\"password\", \"\") \\\n",
    "        .save()\n",
    "\n",
    "      revenue.write \\\n",
    "        .format(\"jdbc\") \\\n",
    "        .mode(\"overwrite\") \\\n",
    "        .option(\"driver\", 'org.postgresql.Driver') \\\n",
    "        .option(\"url\", \"\") \\\n",
    "        .option(\"dbtable\", \"revenue\") \\\n",
    "        .option(\"user\", \"\") \\\n",
    "        .option(\"password\", \"\") \\\n",
    "        .save()\n"
   ]
  },
  {
   "cell_type": "code",
   "execution_count": null,
   "metadata": {
    "application/vnd.databricks.v1+cell": {
     "inputWidgets": {},
     "nuid": "86fa93c0-fb34-4318-9a5d-5ca1d6b0f33e",
     "showTitle": false,
     "title": ""
    }
   },
   "outputs": [],
   "source": [
    "stream = ssc.textFileStream(S3_PATH)\n",
    "\n",
    "stream.foreachRDD(processing)\n",
    "\n",
    "ssc.start()\n",
    "ssc.awaitTermination()\n"
   ]
  }
 ],
 "metadata": {
  "application/vnd.databricks.v1+notebook": {
   "dashboards": [],
   "language": "python",
   "notebookName": "home-test",
   "notebookOrigID": 1084911826473497,
   "widgets": {}
  },
  "kernelspec": {
   "display_name": "Python 3",
   "language": "python",
   "name": "python3"
  },
  "language_info": {
   "codemirror_mode": {
    "name": "ipython",
    "version": 3
   },
   "file_extension": ".py",
   "mimetype": "text/x-python",
   "name": "python",
   "nbconvert_exporter": "python",
   "pygments_lexer": "ipython3",
   "version": "3.7.3"
  }
 },
 "nbformat": 4,
 "nbformat_minor": 2
}
